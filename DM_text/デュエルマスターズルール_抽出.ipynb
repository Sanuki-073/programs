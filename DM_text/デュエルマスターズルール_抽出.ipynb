{
  "nbformat": 4,
  "nbformat_minor": 0,
  "metadata": {
    "colab": {
      "name": "デュエルマスターズルール_抽出.ipynb",
      "provenance": [],
      "collapsed_sections": []
    },
    "kernelspec": {
      "name": "python3",
      "display_name": "Python 3"
    },
    "language_info": {
      "name": "python"
    }
  },
  "cells": [
    {
      "cell_type": "code",
      "execution_count": 1,
      "metadata": {
        "colab": {
          "base_uri": "https://localhost:8080/"
        },
        "id": "POYBkXcltd81",
        "outputId": "d8918abf-9968-4a13-ec0e-dd0a9d98bfb3"
      },
      "outputs": [
        {
          "output_type": "stream",
          "name": "stdout",
          "text": [
            "Looking in indexes: https://pypi.org/simple, https://us-python.pkg.dev/colab-wheels/public/simple/\n",
            "Collecting pdfminer.six\n",
            "  Downloading pdfminer.six-20220524-py3-none-any.whl (5.6 MB)\n",
            "\u001b[K     |████████████████████████████████| 5.6 MB 5.3 MB/s \n",
            "\u001b[?25hCollecting cryptography>=36.0.0\n",
            "  Downloading cryptography-37.0.2-cp36-abi3-manylinux_2_24_x86_64.whl (4.0 MB)\n",
            "\u001b[K     |████████████████████████████████| 4.0 MB 48.7 MB/s \n",
            "\u001b[?25hRequirement already satisfied: charset-normalizer>=2.0.0 in /usr/local/lib/python3.7/dist-packages (from pdfminer.six) (2.0.12)\n",
            "Requirement already satisfied: cffi>=1.12 in /usr/local/lib/python3.7/dist-packages (from cryptography>=36.0.0->pdfminer.six) (1.15.0)\n",
            "Requirement already satisfied: pycparser in /usr/local/lib/python3.7/dist-packages (from cffi>=1.12->cryptography>=36.0.0->pdfminer.six) (2.21)\n",
            "Installing collected packages: cryptography, pdfminer.six\n",
            "Successfully installed cryptography-37.0.2 pdfminer.six-20220524\n"
          ]
        }
      ],
      "source": [
        "!pip install pdfminer.six"
      ]
    },
    {
      "cell_type": "code",
      "source": [
        "!wget https://dm.takaratomy.co.jp/img/dm_rule_20220408.pdf"
      ],
      "metadata": {
        "colab": {
          "base_uri": "https://localhost:8080/"
        },
        "id": "SSmXe_D57-w2",
        "outputId": "501b7b36-c6f5-4d68-8388-ae6022b77071"
      },
      "execution_count": 32,
      "outputs": [
        {
          "output_type": "stream",
          "name": "stdout",
          "text": [
            "--2022-06-19 07:49:42--  https://dm.takaratomy.co.jp/img/dm_rule_20220408.pdf\n",
            "Resolving dm.takaratomy.co.jp (dm.takaratomy.co.jp)... 125.29.34.172\n",
            "Connecting to dm.takaratomy.co.jp (dm.takaratomy.co.jp)|125.29.34.172|:443... connected.\n",
            "HTTP request sent, awaiting response... 200 OK\n",
            "Length: 1275284 (1.2M) [application/pdf]\n",
            "Saving to: ‘dm_rule_20220408.pdf’\n",
            "\n",
            "dm_rule_20220408.pd 100%[===================>]   1.22M   252KB/s    in 5.1s    \n",
            "\n",
            "2022-06-19 07:49:48 (242 KB/s) - ‘dm_rule_20220408.pdf’ saved [1275284/1275284]\n",
            "\n"
          ]
        }
      ]
    },
    {
      "cell_type": "markdown",
      "source": [
        "#pdfからテキストデータの抽出 \n",
        "\n",
        "参考URL:https://liquidjumper.com/programming/python/python_pdf_import_text_pdfminer#subheadline4\n"
      ],
      "metadata": {
        "id": "QEHlEgdQ8Jw4"
      }
    },
    {
      "cell_type": "code",
      "source": [
        "from pdfminer.pdfinterp import PDFResourceManager\n",
        "from pdfminer.converter import TextConverter\n",
        "from pdfminer.pdfinterp import PDFPageInterpreter\n",
        "from pdfminer.pdfpage import PDFPage\n",
        "from pdfminer.layout import LAParams\n",
        "from io import StringIO\n",
        "\n",
        "pdf_file_path = \"dm_rule_20220408.pdf\"#ダウンロードしてきたpdfの名前に変更\n",
        "\n",
        "with open(pdf_file_path , \"rb\") as pdf_file: #ファイルオブジェクトを受け取り、変数「pdf_file」に代入。\n",
        "    output = StringIO() #コンソールに出力されたテキストを取得するため、IOクラス「StringIO」使用\n",
        "    resource_manager = PDFResourceManager()\n",
        "    laparams = LAParams()#レイアウトの変更がなければデフォルトのままで \n",
        "    text_converter = TextConverter(resource_manager, output, laparams=laparams)\n",
        "    page_interpreter = PDFPageInterpreter(resource_manager, text_converter)\n",
        "\n",
        "    for i_page in PDFPage.get_pages(pdf_file): #1ベージずづ処理 \n",
        "        page_interpreter.process_page(i_page)\n",
        "\n",
        "    output_text = output.getvalue()\n",
        "    output.close()\n",
        "    text_converter.close()\n",
        "data_shaped=[]\n",
        "\n",
        "\n",
        "\n",
        "print(output_text)"
      ],
      "metadata": {
        "id": "yCOnaNf1tjgP"
      },
      "execution_count": null,
      "outputs": []
    },
    {
      "cell_type": "markdown",
      "source": [
        "#データ整形"
      ],
      "metadata": {
        "id": "dEst8M83865m"
      }
    },
    {
      "cell_type": "code",
      "source": [
        "import re\n",
        "texts=[]\n",
        "for st in output_text.replace(\"\\x0c\",\"\").split(\"\\n\"):#文字の空白を削除しつつ、改行ごとに処理\n",
        "  if len(st)>2:\n",
        "    if not re.match(r'^[0-9]+\\.', st):\n",
        "      if len(texts)!=0:\n",
        "        texts[-1]+=st\n",
        "    else:\n",
        "      texts.append(st)\n",
        "ids=[re.search(r\"^[0-9]+(\\.[0-9]?[0-9])*[a-z]*\\.*\",st).replace(\" \",\"\") for st in texts]#ルールID\n",
        "rules=[re.sub(r\"^[0-9]+(\\.[0-9]?[0-9])*[a-z]*\\.*\",\"\",st).replace(\" \",\"\") for st in texts ]#ルール内容\n",
        "\n",
        "\n"
      ],
      "metadata": {
        "id": "UBXrhNYjuu7X"
      },
      "execution_count": 23,
      "outputs": []
    },
    {
      "cell_type": "code",
      "source": [
        "import pandas as pd\n",
        "df=pd.DataFrame()\n",
        "df[\"rule_dict_id\"]=ids\n",
        "df[\"rule\"]=rules"
      ],
      "metadata": {
        "id": "83fWuJdZ4DGv"
      },
      "execution_count": 29,
      "outputs": []
    },
    {
      "cell_type": "code",
      "source": [
        "pdf_file_path[:-4]"
      ],
      "metadata": {
        "colab": {
          "base_uri": "https://localhost:8080/",
          "height": 35
        },
        "id": "bqG640PW7sfE",
        "outputId": "08532b32-b481-4d3b-e392-daed67f4a1da"
      },
      "execution_count": 28,
      "outputs": [
        {
          "output_type": "execute_result",
          "data": {
            "text/plain": [
              "'dm_rule_20220408'"
            ],
            "application/vnd.google.colaboratory.intrinsic+json": {
              "type": "string"
            }
          },
          "metadata": {},
          "execution_count": 28
        }
      ]
    },
    {
      "cell_type": "code",
      "source": [
        "df.to_csv(pdf_file_path[:-4]+\".csv\",index=None)#csv形式で保存"
      ],
      "metadata": {
        "id": "WSzD0wGJ7kBi"
      },
      "execution_count": 30,
      "outputs": []
    }
  ]
}